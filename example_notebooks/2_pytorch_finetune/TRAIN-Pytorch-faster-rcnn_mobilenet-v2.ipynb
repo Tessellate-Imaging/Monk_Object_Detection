{
 "cells": [
  {
   "cell_type": "code",
   "execution_count": null,
   "metadata": {},
   "outputs": [],
   "source": []
  },
  {
   "cell_type": "code",
   "execution_count": null,
   "metadata": {},
   "outputs": [],
   "source": []
  },
  {
   "cell_type": "markdown",
   "metadata": {},
   "source": [
    "# Installation\n",
    "\n",
    " - Run these commands\n",
    "     \n",
    "     - git clone https://github.com/Tessellate-Imaging/Monk_Object_Detection.git\n",
    "     \n",
    "     - cd Monk_Object_Detection/2_pytorch_finetune/installation\n",
    "     \n",
    " - Select the right requirements file and run\n",
    " \n",
    "     - cat requirements.txt | xargs -n 1 -L 1 pip install"
   ]
  },
  {
   "cell_type": "code",
   "execution_count": null,
   "metadata": {},
   "outputs": [],
   "source": []
  },
  {
   "cell_type": "code",
   "execution_count": null,
   "metadata": {},
   "outputs": [],
   "source": []
  },
  {
   "cell_type": "markdown",
   "metadata": {},
   "source": [
    "## Dataset Directory Structure\n",
    "\n",
    "    Parent_Directory (root)\n",
    "          |\n",
    "          |-----------Images (img_dir)\n",
    "          |              |\n",
    "          |              |------------------img1.jpg\n",
    "          |              |------------------img2.jpg\n",
    "          |              |------------------.........(and so on)\n",
    "          |\n",
    "          |\n",
    "          |-----------train_labels.csv (anno_file)\n",
    "          \n",
    "          \n",
    "## Annotation file format\n",
    "\n",
    "           | Id         | Labels                                 |\n",
    "           | img1.jpg   | x1 y1 x2 y2 label1 x1 y1 x2 y2 label2  |\n",
    "           \n",
    "- Labels:  xmin ymin xmax ymax label\n",
    "- xmin, ymin - top left corner of bounding box\n",
    "- xmax, ymax - bottom right corner of bounding box"
   ]
  },
  {
   "cell_type": "code",
   "execution_count": null,
   "metadata": {},
   "outputs": [],
   "source": []
  },
  {
   "cell_type": "code",
   "execution_count": null,
   "metadata": {},
   "outputs": [],
   "source": []
  },
  {
   "cell_type": "code",
   "execution_count": null,
   "metadata": {},
   "outputs": [],
   "source": []
  },
  {
   "cell_type": "markdown",
   "metadata": {},
   "source": [
    "# About the Network\n",
    "\n",
    "1. Blog 1 on Faster RCNN - https://towardsdatascience.com/faster-r-cnn-object-detection-implemented-by-keras-for-custom-data-from-googles-open-images-125f62b9141a\n",
    "\n",
    "2. Blog 2 on Faster RCNN - https://towardsdatascience.com/review-faster-r-cnn-object-detection-f5685cb30202\n",
    "\n",
    "3. Paper on Mobilenet V2 - https://arxiv.org/abs/1801.04381\n",
    "\n",
    "4. Blog 1 on Mobilenet V2 - https://towardsdatascience.com/review-mobilenetv2-light-weight-model-image-classification-8febb490e61c\n",
    "\n",
    "5. Reference Tutorial - https://pytorch.org/tutorials/intermediate/torchvision_tutorial.html"
   ]
  },
  {
   "cell_type": "code",
   "execution_count": null,
   "metadata": {},
   "outputs": [],
   "source": []
  },
  {
   "cell_type": "code",
   "execution_count": null,
   "metadata": {},
   "outputs": [],
   "source": []
  },
  {
   "cell_type": "code",
   "execution_count": 1,
   "metadata": {},
   "outputs": [],
   "source": [
    "import os\n",
    "import sys\n",
    "sys.path.append(\"/content/Monk_Object_Detection/2_pytorch_finetune/lib/\");"
   ]
  },
  {
   "cell_type": "code",
   "execution_count": 2,
   "metadata": {},
   "outputs": [],
   "source": [
    "from detector_prototype import Detector"
   ]
  },
  {
   "cell_type": "code",
   "execution_count": 3,
   "metadata": {},
   "outputs": [],
   "source": [
    "gtf = Detector();"
   ]
  },
  {
   "cell_type": "code",
   "execution_count": null,
   "metadata": {},
   "outputs": [],
   "source": []
  },
  {
   "cell_type": "code",
   "execution_count": null,
   "metadata": {},
   "outputs": [],
   "source": []
  },
  {
   "cell_type": "code",
   "execution_count": 4,
   "metadata": {},
   "outputs": [],
   "source": [
    "train_root = \"../sample_dataset/kangaroo/\";                         \n",
    "train_img_dir = \"Images/\";                                                     \n",
    "train_anno_file = \"train_labels.csv\";\n",
    "\n",
    "batch_size=1;"
   ]
  },
  {
   "cell_type": "code",
   "execution_count": 5,
   "metadata": {},
   "outputs": [
    {
     "data": {
      "application/vnd.jupyter.widget-view+json": {
       "model_id": "60c9b38559b1496d96fc89953e487067",
       "version_major": 2,
       "version_minor": 0
      },
      "text/plain": [
       "HBox(children=(FloatProgress(value=0.0, max=164.0), HTML(value='')))"
      ]
     },
     "metadata": {},
     "output_type": "display_data"
    },
    {
     "name": "stdout",
     "output_type": "stream",
     "text": [
      "\n"
     ]
    }
   ],
   "source": [
    "gtf.Dataset([train_root, train_img_dir, train_anno_file], batch_size=batch_size);"
   ]
  },
  {
   "cell_type": "code",
   "execution_count": null,
   "metadata": {},
   "outputs": [],
   "source": []
  },
  {
   "cell_type": "code",
   "execution_count": null,
   "metadata": {},
   "outputs": [],
   "source": []
  },
  {
   "cell_type": "code",
   "execution_count": null,
   "metadata": {},
   "outputs": [],
   "source": []
  },
  {
   "cell_type": "code",
   "execution_count": null,
   "metadata": {},
   "outputs": [],
   "source": []
  },
  {
   "cell_type": "code",
   "execution_count": 6,
   "metadata": {},
   "outputs": [],
   "source": [
    "pretrained = True;         \n",
    "gpu=True;\n",
    "model_name = \"faster-rcnn_mobilenet-v2\";"
   ]
  },
  {
   "cell_type": "code",
   "execution_count": 7,
   "metadata": {},
   "outputs": [],
   "source": [
    "gtf.Model(model_name, use_pretrained=pretrained, use_gpu=gpu);"
   ]
  },
  {
   "cell_type": "code",
   "execution_count": null,
   "metadata": {},
   "outputs": [],
   "source": []
  },
  {
   "cell_type": "code",
   "execution_count": null,
   "metadata": {},
   "outputs": [],
   "source": []
  },
  {
   "cell_type": "code",
   "execution_count": null,
   "metadata": {},
   "outputs": [],
   "source": []
  },
  {
   "cell_type": "code",
   "execution_count": 8,
   "metadata": {},
   "outputs": [],
   "source": [
    "gtf.Set_Learning_Rate(0.005);"
   ]
  },
  {
   "cell_type": "code",
   "execution_count": 11,
   "metadata": {},
   "outputs": [],
   "source": [
    "epochs=2;\n",
    "params_file = \"saved_model.h5\";"
   ]
  },
  {
   "cell_type": "code",
   "execution_count": 12,
   "metadata": {},
   "outputs": [
    {
     "name": "stdout",
     "output_type": "stream",
     "text": [
      "Epoch: [0]  [  0/164]  eta: 0:01:10  lr: 0.000036  loss: 0.8413 (0.8413)  loss_classifier: 0.1561 (0.1561)  loss_box_reg: 0.0774 (0.0774)  loss_objectness: 0.5670 (0.5670)  loss_rpn_box_reg: 0.0409 (0.0409)  time: 0.4320  data: 0.1926  max mem: 2526\n",
      "Epoch: [0]  [ 20/164]  eta: 0:00:35  lr: 0.000649  loss: 0.7821 (0.8180)  loss_classifier: 0.1444 (0.1736)  loss_box_reg: 0.0603 (0.0654)  loss_objectness: 0.5078 (0.5068)  loss_rpn_box_reg: 0.0406 (0.0722)  time: 0.2337  data: 0.0028  max mem: 2557\n",
      "Epoch: [0]  [ 40/164]  eta: 0:00:29  lr: 0.001261  loss: 0.6030 (0.7446)  loss_classifier: 0.1779 (0.1879)  loss_box_reg: 0.0744 (0.0784)  loss_objectness: 0.3107 (0.4048)  loss_rpn_box_reg: 0.0455 (0.0735)  time: 0.2347  data: 0.0032  max mem: 2567\n",
      "Epoch: [0]  [ 60/164]  eta: 0:00:24  lr: 0.001874  loss: 0.5096 (0.6912)  loss_classifier: 0.1621 (0.1876)  loss_box_reg: 0.0812 (0.0884)  loss_objectness: 0.1968 (0.3375)  loss_rpn_box_reg: 0.0401 (0.0776)  time: 0.2251  data: 0.0034  max mem: 2567\n",
      "Epoch: [0]  [ 80/164]  eta: 0:00:20  lr: 0.002487  loss: 0.4224 (0.6362)  loss_classifier: 0.1393 (0.1780)  loss_box_reg: 0.0779 (0.0868)  loss_objectness: 0.1246 (0.2915)  loss_rpn_box_reg: 0.0480 (0.0799)  time: 0.2525  data: 0.0039  max mem: 2567\n",
      "Epoch: [0]  [100/164]  eta: 0:00:15  lr: 0.003100  loss: 0.4214 (0.6033)  loss_classifier: 0.1580 (0.1785)  loss_box_reg: 0.0820 (0.0882)  loss_objectness: 0.1046 (0.2582)  loss_rpn_box_reg: 0.0411 (0.0784)  time: 0.2239  data: 0.0034  max mem: 2567\n",
      "Epoch: [0]  [120/164]  eta: 0:00:10  lr: 0.003713  loss: 0.3271 (0.5849)  loss_classifier: 0.0972 (0.1702)  loss_box_reg: 0.0546 (0.0859)  loss_objectness: 0.0967 (0.2405)  loss_rpn_box_reg: 0.0818 (0.0884)  time: 0.2302  data: 0.0034  max mem: 2567\n",
      "Epoch: [0]  [140/164]  eta: 0:00:05  lr: 0.004326  loss: 0.3289 (0.5582)  loss_classifier: 0.0942 (0.1613)  loss_box_reg: 0.0680 (0.0842)  loss_objectness: 0.1235 (0.2259)  loss_rpn_box_reg: 0.0531 (0.0868)  time: 0.2393  data: 0.0032  max mem: 2568\n",
      "Epoch: [0]  [160/164]  eta: 0:00:00  lr: 0.004939  loss: 0.2439 (0.5280)  loss_classifier: 0.0823 (0.1519)  loss_box_reg: 0.0496 (0.0808)  loss_objectness: 0.0847 (0.2109)  loss_rpn_box_reg: 0.0337 (0.0843)  time: 0.2296  data: 0.0032  max mem: 2570\n",
      "Epoch: [0]  [163/164]  eta: 0:00:00  lr: 0.005000  loss: 0.2395 (0.5232)  loss_classifier: 0.0730 (0.1503)  loss_box_reg: 0.0445 (0.0799)  loss_objectness: 0.0847 (0.2087)  loss_rpn_box_reg: 0.0311 (0.0843)  time: 0.2299  data: 0.0033  max mem: 2570\n",
      "Epoch: [0] Total time: 0:00:38 (0.2350 s / it)\n",
      "creating index...\n",
      "index created!\n",
      "Test:  [  0/164]  eta: 0:00:30  model_time: 0.0415 (0.0415)  evaluator_time: 0.0016 (0.0016)  time: 0.1853  data: 0.1363  max mem: 2570\n",
      "Test:  [100/164]  eta: 0:00:03  model_time: 0.0502 (0.0518)  evaluator_time: 0.0019 (0.0019)  time: 0.0563  data: 0.0027  max mem: 2570\n",
      "Test:  [163/164]  eta: 0:00:00  model_time: 0.0505 (0.0520)  evaluator_time: 0.0019 (0.0020)  time: 0.0573  data: 0.0027  max mem: 2570\n",
      "Test: Total time: 0:00:09 (0.0588 s / it)\n",
      "Averaged stats: model_time: 0.0505 (0.0520)  evaluator_time: 0.0019 (0.0020)\n",
      "Accumulating evaluation results...\n",
      "DONE (t=0.03s).\n",
      "IoU metric: bbox\n",
      " Average Precision  (AP) @[ IoU=0.50:0.95 | area=   all | maxDets=100 ] = 0.024\n",
      " Average Precision  (AP) @[ IoU=0.50      | area=   all | maxDets=100 ] = 0.094\n",
      " Average Precision  (AP) @[ IoU=0.75      | area=   all | maxDets=100 ] = 0.003\n",
      " Average Precision  (AP) @[ IoU=0.50:0.95 | area= small | maxDets=100 ] = -1.000\n",
      " Average Precision  (AP) @[ IoU=0.50:0.95 | area=medium | maxDets=100 ] = 0.000\n",
      " Average Precision  (AP) @[ IoU=0.50:0.95 | area= large | maxDets=100 ] = 0.055\n",
      " Average Recall     (AR) @[ IoU=0.50:0.95 | area=   all | maxDets=  1 ] = 0.037\n",
      " Average Recall     (AR) @[ IoU=0.50:0.95 | area=   all | maxDets= 10 ] = 0.215\n",
      " Average Recall     (AR) @[ IoU=0.50:0.95 | area=   all | maxDets=100 ] = 0.238\n",
      " Average Recall     (AR) @[ IoU=0.50:0.95 | area= small | maxDets=100 ] = -1.000\n",
      " Average Recall     (AR) @[ IoU=0.50:0.95 | area=medium | maxDets=100 ] = 0.000\n",
      " Average Recall     (AR) @[ IoU=0.50:0.95 | area= large | maxDets=100 ] = 0.256\n",
      "Epoch: [1]  [  0/164]  eta: 0:01:02  lr: 0.005000  loss: 0.4417 (0.4417)  loss_classifier: 0.1256 (0.1256)  loss_box_reg: 0.1162 (0.1162)  loss_objectness: 0.1064 (0.1064)  loss_rpn_box_reg: 0.0935 (0.0935)  time: 0.3802  data: 0.1509  max mem: 2570\n",
      "Epoch: [1]  [ 20/164]  eta: 0:00:34  lr: 0.005000  loss: 0.4112 (0.4862)  loss_classifier: 0.1016 (0.1131)  loss_box_reg: 0.0580 (0.0806)  loss_objectness: 0.0987 (0.1385)  loss_rpn_box_reg: 0.0901 (0.1540)  time: 0.2318  data: 0.0027  max mem: 2570\n",
      "Epoch: [1]  [ 40/164]  eta: 0:00:28  lr: 0.005000  loss: 0.3081 (0.3997)  loss_classifier: 0.0765 (0.0947)  loss_box_reg: 0.0536 (0.0683)  loss_objectness: 0.1140 (0.1302)  loss_rpn_box_reg: 0.0331 (0.1065)  time: 0.2224  data: 0.0031  max mem: 2570\n",
      "Epoch: [1]  [ 60/164]  eta: 0:00:24  lr: 0.005000  loss: 0.2780 (0.3719)  loss_classifier: 0.0927 (0.0945)  loss_box_reg: 0.0653 (0.0693)  loss_objectness: 0.0647 (0.1164)  loss_rpn_box_reg: 0.0439 (0.0917)  time: 0.2322  data: 0.0031  max mem: 2570\n",
      "Epoch: [1]  [ 80/164]  eta: 0:00:19  lr: 0.005000  loss: 0.2243 (0.3525)  loss_classifier: 0.0845 (0.0926)  loss_box_reg: 0.0522 (0.0678)  loss_objectness: 0.0674 (0.1065)  loss_rpn_box_reg: 0.0337 (0.0856)  time: 0.2315  data: 0.0034  max mem: 2570\n",
      "Epoch: [1]  [100/164]  eta: 0:00:14  lr: 0.005000  loss: 0.2121 (0.3357)  loss_classifier: 0.0652 (0.0889)  loss_box_reg: 0.0355 (0.0629)  loss_objectness: 0.0598 (0.1003)  loss_rpn_box_reg: 0.0611 (0.0837)  time: 0.2357  data: 0.0032  max mem: 2576\n",
      "Epoch: [1]  [120/164]  eta: 0:00:10  lr: 0.005000  loss: 0.2462 (0.3324)  loss_classifier: 0.0735 (0.0884)  loss_box_reg: 0.0591 (0.0629)  loss_objectness: 0.0692 (0.1002)  loss_rpn_box_reg: 0.0404 (0.0809)  time: 0.2291  data: 0.0032  max mem: 2576\n",
      "Epoch: [1]  [140/164]  eta: 0:00:05  lr: 0.005000  loss: 0.2696 (0.3296)  loss_classifier: 0.0935 (0.0902)  loss_box_reg: 0.0635 (0.0639)  loss_objectness: 0.0679 (0.0968)  loss_rpn_box_reg: 0.0401 (0.0788)  time: 0.2306  data: 0.0031  max mem: 2576\n",
      "Epoch: [1]  [160/164]  eta: 0:00:00  lr: 0.005000  loss: 0.2199 (0.3260)  loss_classifier: 0.0467 (0.0877)  loss_box_reg: 0.0340 (0.0621)  loss_objectness: 0.0845 (0.0956)  loss_rpn_box_reg: 0.0406 (0.0806)  time: 0.2416  data: 0.0038  max mem: 2576\n",
      "Epoch: [1]  [163/164]  eta: 0:00:00  lr: 0.005000  loss: 0.2199 (0.3267)  loss_classifier: 0.0622 (0.0884)  loss_box_reg: 0.0384 (0.0631)  loss_objectness: 0.0845 (0.0955)  loss_rpn_box_reg: 0.0370 (0.0798)  time: 0.2461  data: 0.0039  max mem: 2576\n",
      "Epoch: [1] Total time: 0:00:38 (0.2336 s / it)\n",
      "creating index...\n",
      "index created!\n",
      "Test:  [  0/164]  eta: 0:00:27  model_time: 0.0349 (0.0349)  evaluator_time: 0.0017 (0.0017)  time: 0.1695  data: 0.1313  max mem: 2576\n",
      "Test:  [100/164]  eta: 0:00:03  model_time: 0.0440 (0.0523)  evaluator_time: 0.0015 (0.0018)  time: 0.0525  data: 0.0026  max mem: 2576\n",
      "Test:  [163/164]  eta: 0:00:00  model_time: 0.0467 (0.0533)  evaluator_time: 0.0017 (0.0018)  time: 0.0553  data: 0.0027  max mem: 2576\n",
      "Test: Total time: 0:00:09 (0.0602 s / it)\n",
      "Averaged stats: model_time: 0.0467 (0.0533)  evaluator_time: 0.0017 (0.0018)\n",
      "Accumulating evaluation results...\n",
      "DONE (t=0.03s).\n",
      "IoU metric: bbox\n",
      " Average Precision  (AP) @[ IoU=0.50:0.95 | area=   all | maxDets=100 ] = 0.079\n",
      " Average Precision  (AP) @[ IoU=0.50      | area=   all | maxDets=100 ] = 0.282\n",
      " Average Precision  (AP) @[ IoU=0.75      | area=   all | maxDets=100 ] = 0.021\n",
      " Average Precision  (AP) @[ IoU=0.50:0.95 | area= small | maxDets=100 ] = -1.000\n",
      " Average Precision  (AP) @[ IoU=0.50:0.95 | area=medium | maxDets=100 ] = 0.000\n",
      " Average Precision  (AP) @[ IoU=0.50:0.95 | area= large | maxDets=100 ] = 0.086\n",
      " Average Recall     (AR) @[ IoU=0.50:0.95 | area=   all | maxDets=  1 ] = 0.110\n",
      " Average Recall     (AR) @[ IoU=0.50:0.95 | area=   all | maxDets= 10 ] = 0.282\n",
      " Average Recall     (AR) @[ IoU=0.50:0.95 | area=   all | maxDets=100 ] = 0.289\n",
      " Average Recall     (AR) @[ IoU=0.50:0.95 | area= small | maxDets=100 ] = -1.000\n",
      " Average Recall     (AR) @[ IoU=0.50:0.95 | area=medium | maxDets=100 ] = 0.000\n",
      " Average Recall     (AR) @[ IoU=0.50:0.95 | area= large | maxDets=100 ] = 0.311\n"
     ]
    }
   ],
   "source": [
    "gtf.Train(epochs, params_file);"
   ]
  },
  {
   "cell_type": "code",
   "execution_count": null,
   "metadata": {},
   "outputs": [],
   "source": []
  },
  {
   "cell_type": "code",
   "execution_count": null,
   "metadata": {},
   "outputs": [],
   "source": []
  },
  {
   "cell_type": "code",
   "execution_count": null,
   "metadata": {},
   "outputs": [],
   "source": []
  },
  {
   "cell_type": "code",
   "execution_count": null,
   "metadata": {},
   "outputs": [],
   "source": []
  },
  {
   "cell_type": "code",
   "execution_count": null,
   "metadata": {},
   "outputs": [],
   "source": []
  },
  {
   "cell_type": "markdown",
   "metadata": {},
   "source": [
    "# Running Inference"
   ]
  },
  {
   "cell_type": "code",
   "execution_count": 1,
   "metadata": {},
   "outputs": [],
   "source": [
    "import os\n",
    "import sys\n",
    "sys.path.append(\"../../2_pytorch_finetune/lib/\");"
   ]
  },
  {
   "cell_type": "code",
   "execution_count": 2,
   "metadata": {},
   "outputs": [],
   "source": [
    "from inference_prototype import Infer"
   ]
  },
  {
   "cell_type": "code",
   "execution_count": 3,
   "metadata": {},
   "outputs": [],
   "source": [
    "model_name = \"faster-rcnn_mobilenet-v2\";\n",
    "params_file = \"saved_model.h5\";\n",
    "class_list = [\"kangaroo\"];"
   ]
  },
  {
   "cell_type": "code",
   "execution_count": 4,
   "metadata": {},
   "outputs": [],
   "source": [
    "gtf = Infer(model_name, params_file, class_list, use_gpu=True);"
   ]
  },
  {
   "cell_type": "code",
   "execution_count": null,
   "metadata": {},
   "outputs": [],
   "source": []
  },
  {
   "cell_type": "code",
   "execution_count": null,
   "metadata": {},
   "outputs": [],
   "source": []
  },
  {
   "cell_type": "code",
   "execution_count": 5,
   "metadata": {},
   "outputs": [],
   "source": [
    "img_name = \"../sample_dataset/kangaroo/test/kg4.jpeg\"; \n",
    "thresh = 0.5;"
   ]
  },
  {
   "cell_type": "code",
   "execution_count": 6,
   "metadata": {},
   "outputs": [],
   "source": [
    "output = gtf.run(img_name,thresh=thresh);"
   ]
  },
  {
   "cell_type": "code",
   "execution_count": 7,
   "metadata": {},
   "outputs": [
    {
     "data": {
      "image/jpeg": "[encoded data removed]",
      "text/plain": [
       "<IPython.core.display.Image object>"
      ]
     },
     "execution_count": 7,
     "metadata": {},
     "output_type": "execute_result"
    }
   ],
   "source": [
    "from IPython.display import Image as Im\n",
    "Im(filename='out.jpg') "
   ]
  },
  {
   "cell_type": "code",
   "execution_count": null,
   "metadata": {},
   "outputs": [],
   "source": []
  },
  {
   "cell_type": "code",
   "execution_count": null,
   "metadata": {},
   "outputs": [],
   "source": []
  },
  {
   "cell_type": "code",
   "execution_count": null,
   "metadata": {},
   "outputs": [],
   "source": []
  },
  {
   "cell_type": "code",
   "execution_count": null,
   "metadata": {},
   "outputs": [],
   "source": []
  },
  {
   "cell_type": "code",
   "execution_count": null,
   "metadata": {},
   "outputs": [],
   "source": []
  },
  {
   "cell_type": "markdown",
   "metadata": {},
   "source": [
    "# Author - Tessellate Imaging - https://www.tessellateimaging.com/\n",
    "\n",
    "# Monk Library - https://github.com/Tessellate-Imaging/monk_v1\n",
    "\n",
    "    Monk is an opensource low-code tool for computer vision and deep learning\n",
    "\n",
    "\n",
    "## Monk features\n",
    "   - low-code\n",
    "   - unified wrapper over major deep learning framework - keras, pytorch, gluoncv\n",
    "   - syntax invariant wrapper\n",
    "\n",
    "## Enables\n",
    "\n",
    "    - to create, manage and version control deep learning experiments\n",
    "    - to compare experiments across training metrics\n",
    "    - to quickly find best hyper-parameters\n",
    "\n",
    "## At present it only supports transfer learning, but we are working each day to incorporate\n",
    "\n",
    "    - GUI based custom model creation\n",
    "    - various object detection and segmentation algorithms\n",
    "    - deployment pipelines to cloud and local platforms\n",
    "    - acceleration libraries such as TensorRT\n",
    "    - preprocessing and post processing libraries\n",
    "\n",
    "\n",
    "## To contribute to Monk AI or Monk Object Detection repository raise an issue in the git-repo or dm us on linkedin\n",
    "\n",
    "    - Abhishek - https://www.linkedin.com/in/abhishek-kumar-annamraju/\n",
    "    - Akash - https://www.linkedin.com/in/akashdeepsingh01/\n"
   ]
  },
  {
   "cell_type": "code",
   "execution_count": null,
   "metadata": {},
   "outputs": [],
   "source": []
  }
 ],
 "metadata": {
  "kernelspec": {
   "display_name": "Python 3",
   "language": "python",
   "name": "python3"
  },
  "language_info": {
   "codemirror_mode": {
    "name": "ipython",
    "version": 3
   },
   "file_extension": ".py",
   "mimetype": "text/x-python",
   "name": "python",
   "nbconvert_exporter": "python",
   "pygments_lexer": "ipython3",
   "version": "3.6.9"
  }
 },
 "nbformat": 4,
 "nbformat_minor": 2
}
